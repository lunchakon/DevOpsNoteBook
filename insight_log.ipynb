{
 "cells": [
  {
   "cell_type": "code",
   "execution_count": 7,
   "metadata": {
    "collapsed": true,
    "ExecuteTime": {
     "start_time": "2024-06-19T11:01:49.288861Z",
     "end_time": "2024-06-19T11:01:49.294953Z"
    }
   },
   "outputs": [
    {
     "name": "stdout",
     "output_type": "stream",
     "text": [
      "Total session starts: 239\n",
      "Total data requests: 0\n",
      "Total unsubscribes: 0\n",
      "Total session terminations: 0\n"
     ]
    }
   ],
   "source": [
    "# Analyze the log for testing\n",
    "def analyze_log_data(filename):\n",
    "        \"\"\"\n",
    "        Analyzes log data related to websocket sessions and user activity.\n",
    "\n",
    "        Args:\n",
    "          filename: Path to the file containing the log messages.\n",
    "\n",
    "        Prints insights about the user's session activity and possible reasons for termination.\n",
    "        \"\"\"\n",
    "        # Initialize counters\n",
    "        session_starts = 0\n",
    "        session_ends = 0\n",
    "        unsubscribes = 0\n",
    "        data_requests = 0\n",
    "\n",
    "        # Open the log file\n",
    "        with open(filename, 'r') as f:\n",
    "            for line in f:\n",
    "                # Parse the log message\n",
    "                # This part might require adjustments based on your specific log format\n",
    "                if \"terminate\" in line:\n",
    "                    session_starts += 1\n",
    "                elif \"requests market data\" in line:\n",
    "                    data_requests += 1\n",
    "                elif \"unsubscribes from the session\" in line:\n",
    "                    unsubscribes += 1\n",
    "                elif \"session is terminated\" in line:\n",
    "                    session_ends += 1\n",
    "\n",
    "        # Print insights\n",
    "        print(f\"Total session starts: {session_starts}\")\n",
    "        print(f\"Total data requests: {data_requests}\")\n",
    "        print(f\"Total unsubscribes: {unsubscribes}\")\n",
    "        print(f\"Total session terminations: {session_ends}\")\n",
    "\n",
    "        # Check for potential reasons behind terminations\n",
    "        if session_ends > session_starts:\n",
    "            print(\"Possible reason for termination: User inactivity or network issues.\")\n",
    "        if unsubscribes > 0:\n",
    "            print(\"Possible reason for termination: Application logic requiring session refresh.\")\n",
    "\n",
    "        # Additional analysis (optional)\n",
    "        # You can extend this script to perform more complex analysis, like:\n",
    "        # - Calculate average session duration\n",
    "        # - Analyze timestamps to identify inactivity periods\n",
    "        # - Correlate terminations with specific events\n",
    "# Replace 'path/to/your/log/file.txt' with the actual file path\n",
    "\n",
    "analyze_log_data('/Log_Investigation/tcfeedservice-solactive/tcfeedservice-solactive/combinded_log.log')"
   ]
  },
  {
   "cell_type": "code",
   "execution_count": 9,
   "outputs": [
    {
     "name": "stdout",
     "output_type": "stream",
     "text": [
      "Total session starts: 80\n",
      "Total terminate WsKey(UserCode(solactive)): 159\n",
      "Total unsubscribes: 80\n",
      "Possible reason for termination: User inactivity or network issues.\n",
      "Possible reason for termination: Application logic requiring session refresh\n"
     ]
    }
   ],
   "source": [
    "def analyze_log(filename):\n",
    "    # Initialize counters\n",
    "\n",
    "    session_start = 0\n",
    "    session_end = 0\n",
    "    session_unsub = 0\n",
    "\n",
    "    #Open the log file\n",
    "    with open(filename,'r') as file:\n",
    "        for line in file:\n",
    "            if \"session started\" in line :\n",
    "                session_start +=1\n",
    "            elif \"terminate WsKey(UserCode(solactive))\" in line :\n",
    "                session_end +=1\n",
    "            elif \"session actor terminated for UserCode(solactive) - removing session from data structures\" in line :\n",
    "                session_unsub +=1\n",
    "\n",
    "    # print insight check\n",
    "        print(f\"Total session starts: {session_start}\")\n",
    "        print(f\"Total terminate WsKey(UserCode(solactive)): {session_end}\")\n",
    "        print(f\"Total unsubscribes: {session_unsub}\")\n",
    "        if session_end > session_start:\n",
    "             print(\"Possible reason for termination: User inactivity or network issues.\")\n",
    "        if session_unsub > 0 :\n",
    "            print(\"Possible reason for termination: Application logic requiring session refresh\")\n",
    "\n",
    "analyze_log('/Log_Investigation/tcfeedservice-solactive/tcfeedservice-solactive/combinded_log.log')\n",
    "\n"
   ],
   "metadata": {
    "collapsed": false,
    "ExecuteTime": {
     "start_time": "2024-06-19T13:10:51.412288Z",
     "end_time": "2024-06-19T13:10:51.444100Z"
    }
   }
  },
  {
   "cell_type": "code",
   "execution_count": 11,
   "outputs": [
    {
     "ename": "TypeError",
     "evalue": "argument of type 'NoneType' is not iterable",
     "output_type": "error",
     "traceback": [
      "\u001B[1;31m---------------------------------------------------------------------------\u001B[0m",
      "\u001B[1;31mTypeError\u001B[0m                                 Traceback (most recent call last)",
      "Cell \u001B[1;32mIn[11], line 92\u001B[0m\n\u001B[0;32m     88\u001B[0m     message \u001B[38;5;241m=\u001B[39m \u001B[38;5;124m\"\u001B[39m\u001B[38;5;124m \u001B[39m\u001B[38;5;124m\"\u001B[39m\u001B[38;5;241m.\u001B[39mjoin(parts[\u001B[38;5;241m1\u001B[39m:])\n\u001B[0;32m     90\u001B[0m     \u001B[38;5;28;01mreturn\u001B[39;00m timestamp, message\n\u001B[1;32m---> 92\u001B[0m \u001B[43manalyze_log_data\u001B[49m\u001B[43m(\u001B[49m\u001B[38;5;124;43m'\u001B[39;49m\u001B[38;5;124;43m/Log_Investigation/tcfeedservice-solactive/tcfeedservice-solactive/combinded_log.log\u001B[39;49m\u001B[38;5;124;43m'\u001B[39;49m\u001B[43m)\u001B[49m\n",
      "Cell \u001B[1;32mIn[11], line 16\u001B[0m, in \u001B[0;36manalyze_log_data\u001B[1;34m(filename)\u001B[0m\n\u001B[0;32m     13\u001B[0m timestamp, message \u001B[38;5;241m=\u001B[39m parse_log_message(line)  \u001B[38;5;66;03m# Implement parse_log_message function\u001B[39;00m\n\u001B[0;32m     15\u001B[0m \u001B[38;5;66;03m# Update counters based on message type\u001B[39;00m\n\u001B[1;32m---> 16\u001B[0m \u001B[38;5;28;01mif\u001B[39;00m \u001B[38;5;124;43m\"\u001B[39;49m\u001B[38;5;124;43mstarts a new session\u001B[39;49m\u001B[38;5;124;43m\"\u001B[39;49m\u001B[43m \u001B[49m\u001B[38;5;129;43;01min\u001B[39;49;00m\u001B[43m \u001B[49m\u001B[43mmessage\u001B[49m:\n\u001B[0;32m     17\u001B[0m     session_starts[timestamp] \u001B[38;5;241m=\u001B[39m timestamp  \u001B[38;5;66;03m# Start time is the timestamp itself\u001B[39;00m\n\u001B[0;32m     18\u001B[0m \u001B[38;5;28;01melif\u001B[39;00m \u001B[38;5;124m\"\u001B[39m\u001B[38;5;124mrequests market data\u001B[39m\u001B[38;5;124m\"\u001B[39m \u001B[38;5;129;01min\u001B[39;00m line:\n",
      "\u001B[1;31mTypeError\u001B[0m: argument of type 'NoneType' is not iterable"
     ]
    }
   ],
   "source": [
    "def analyze_log_data(filename):\n",
    "\n",
    "    # Initialize counters and variables\n",
    "    session_starts = {}  # Dictionary to store session start times (timestamp)\n",
    "    session_ends = {}    # Dictionary to store session end times (timestamp)\n",
    "    data_requests = 0\n",
    "    unsubscribes = 0\n",
    "\n",
    "    # Open the log file\n",
    "    with open(filename, 'r') as f:\n",
    "        for line in f:\n",
    "            # Parse the log message\n",
    "            timestamp, message = parse_log_message(line)  # Implement parse_log_message function\n",
    "\n",
    "            # Update counters based on message type\n",
    "            if \"starts a new session\" in message:\n",
    "                session_starts[timestamp] = timestamp  # Start time is the timestamp itself\n",
    "            elif \"requests market data\" in line:\n",
    "                data_requests += 1\n",
    "            elif \"unsubscribes from the session\" in line:\n",
    "                unsubscribes += 1\n",
    "            elif \"session is terminated\" in line:\n",
    "                session_ends[timestamp] = timestamp  # End time is the timestamp itself\n",
    "\n",
    "    # Calculate session durations (assuming timestamps are in seconds)\n",
    "    total_duration = 0\n",
    "    session_count = len(session_starts)\n",
    "    for start_time, end_time in zip(session_starts.values(), session_ends.values()):\n",
    "        if end_time:  # Check if session has an end time (might not for all starts)\n",
    "            duration = end_time - start_time\n",
    "            total_duration += duration\n",
    "\n",
    "    # Calculate average session duration (if there were any sessions)\n",
    "    average_duration = total_duration / session_count if session_count > 0 else 0\n",
    "\n",
    "    # Identify inactivity periods (assuming timestamps are in seconds)\n",
    "    inactivity_threshold = 60  # Set inactivity threshold in seconds (e.g., 1 minute)\n",
    "    inactivity_periods = []\n",
    "    previous_timestamp = None\n",
    "    for timestamp in sorted(session_starts.keys() | session_ends.keys()):\n",
    "        if previous_timestamp and (timestamp - previous_timestamp) > inactivity_threshold:\n",
    "            inactivity_periods.append((previous_timestamp, timestamp))\n",
    "        previous_timestamp = timestamp\n",
    "\n",
    "    # Print insights\n",
    "    print(f\"Total session starts: {session_count}\")\n",
    "    print(f\"Total data requests: {data_requests}\")\n",
    "    print(f\"Total unsubscribes: {unsubscribes}\")\n",
    "    print(f\"Total session terminations: {len(session_ends)}\")\n",
    "    print(f\"Average session duration: {average_duration:.2f} seconds\")\n",
    "\n",
    "    if inactivity_periods:\n",
    "        print(f\"Inactivity periods (above {inactivity_threshold} seconds):\")\n",
    "        for start, end in inactivity_periods:\n",
    "            print(f\"- {start} to {end}\")\n",
    "    else:\n",
    "        print(\"No inactivity periods detected.\")\n",
    "\n",
    "    # Potential reasons for termination (same as before)\n",
    "    # ... (refer to previous code)\n",
    "\n",
    "# Implement parse_log_message function to extract timestamp and message from each log line\n",
    "def parse_log_message(line):\n",
    "    # Extract timestamp and message based on your specific log format\n",
    "    # This function is left as an exercise for you\n",
    "    # You can use regular expressions or string manipulation techniques\n",
    "    # ...\n",
    "    pass\n",
    "\n",
    "analyze_log_data('/Log_Investigation/tcfeedservice-solactive/tcfeedservice-solactive/combinded_log.log')\n"
   ],
   "metadata": {
    "collapsed": false
   }
  },
  {
   "cell_type": "code",
   "execution_count": null,
   "outputs": [],
   "source": [
    "def parse_log_message(line):\n",
    "    \"\"\"\n",
    "    Extracts timestamp and message from a log line.\n",
    "    Args:\n",
    "      line: A single line from the log file.\n",
    "    Returns:\n",
    "      A tuple containing the timestamp (as integer) and message (as string).\n",
    "    \"\"\"\n",
    "    # Split the line based on spaces (assuming timestamp is separated by spaces)\n",
    "    parts = line.split()\n",
    "\n",
    "    # Check if the line has enough parts (at least 2 for timestamp and message)\n",
    "    if len(parts) < 2:\n",
    "        return None, None\n",
    "\n",
    "    # Extract timestamp (assuming first part is a timestamp)\n",
    "    try:\n",
    "        timestamp = int(parts[0])\n",
    "    except ValueError:\n",
    "        # Handle cases where the first part isn't an integer (e.g., unexpected log format)\n",
    "        return None, None\n",
    "\n",
    "    # Reconstruct the message part (assuming everything after timestamp is the message)\n",
    "    message = \" \".join(parts[1:])\n",
    "\n",
    "    return timestamp, message"
   ],
   "metadata": {
    "collapsed": false
   }
  },
  {
   "cell_type": "code",
   "execution_count": null,
   "outputs": [],
   "source": [],
   "metadata": {
    "collapsed": false
   }
  }
 ],
 "metadata": {
  "kernelspec": {
   "display_name": "Python 3",
   "language": "python",
   "name": "python3"
  },
  "language_info": {
   "codemirror_mode": {
    "name": "ipython",
    "version": 2
   },
   "file_extension": ".py",
   "mimetype": "text/x-python",
   "name": "python",
   "nbconvert_exporter": "python",
   "pygments_lexer": "ipython2",
   "version": "2.7.6"
  }
 },
 "nbformat": 4,
 "nbformat_minor": 0
}
